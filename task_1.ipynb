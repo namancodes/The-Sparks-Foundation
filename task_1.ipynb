{
  "nbformat": 4,
  "nbformat_minor": 0,
  "metadata": {
    "colab": {
      "name": "task-1.ipynb",
      "provenance": [],
      "collapsed_sections": [],
      "authorship_tag": "ABX9TyN5/jai6/nE4MXz8QDS08mV"
    },
    "kernelspec": {
      "name": "python3",
      "display_name": "Python 3"
    },
    "language_info": {
      "name": "python"
    }
  },
  "cells": [
    {
      "cell_type": "markdown",
      "metadata": {
        "id": "Tmu803Rn8ZmV"
      },
      "source": [
        "# **Task 1 : Prediction using Supervised ML**\n",
        "## **GRIP @ The Sparks Foundation**\n",
        "\n",
        "---\n",
        "\n",
        "\n",
        "*   In this regression task we will predict the percentage of marks that a student is expected to score based upon the number of hours they studied.\n",
        "\n",
        "*  This is a simple linear regression task as it involves just two variables.\n",
        "\n",
        "\n"
      ]
    },
    {
      "cell_type": "markdown",
      "metadata": {
        "id": "Obd6plsw9nhp"
      },
      "source": [
        "## **Importing the required libraries**"
      ]
    },
    {
      "cell_type": "code",
      "metadata": {
        "id": "vYJkYffumimJ"
      },
      "source": [
        "import numpy as np\n",
        "import pandas as pd\n",
        "import matplotlib.pyplot as plt\n",
        "%matplotlib inline\n",
        "from sklearn.model_selection import train_test_split\n",
        "from sklearn.linear_model import LinearRegression\n",
        "from sklearn import metrics"
      ],
      "execution_count": 1,
      "outputs": []
    },
    {
      "cell_type": "markdown",
      "metadata": {
        "id": "FKj3gTOc-gVO"
      },
      "source": [
        "## **Reading the data**"
      ]
    },
    {
      "cell_type": "code",
      "metadata": {
        "colab": {
          "base_uri": "https://localhost:8080/",
          "height": 206
        },
        "id": "JsgsLPa1rFKG",
        "outputId": "f7c59725-b693-4597-cbec-2f92d7078788"
      },
      "source": [
        "url = 'http://bit.ly/w-data'\n",
        "df = pd.read_csv(url)\n",
        "df.head()  # Loading the data"
      ],
      "execution_count": 2,
      "outputs": [
        {
          "output_type": "execute_result",
          "data": {
            "text/html": [
              "<div>\n",
              "<style scoped>\n",
              "    .dataframe tbody tr th:only-of-type {\n",
              "        vertical-align: middle;\n",
              "    }\n",
              "\n",
              "    .dataframe tbody tr th {\n",
              "        vertical-align: top;\n",
              "    }\n",
              "\n",
              "    .dataframe thead th {\n",
              "        text-align: right;\n",
              "    }\n",
              "</style>\n",
              "<table border=\"1\" class=\"dataframe\">\n",
              "  <thead>\n",
              "    <tr style=\"text-align: right;\">\n",
              "      <th></th>\n",
              "      <th>Hours</th>\n",
              "      <th>Scores</th>\n",
              "    </tr>\n",
              "  </thead>\n",
              "  <tbody>\n",
              "    <tr>\n",
              "      <th>0</th>\n",
              "      <td>2.5</td>\n",
              "      <td>21</td>\n",
              "    </tr>\n",
              "    <tr>\n",
              "      <th>1</th>\n",
              "      <td>5.1</td>\n",
              "      <td>47</td>\n",
              "    </tr>\n",
              "    <tr>\n",
              "      <th>2</th>\n",
              "      <td>3.2</td>\n",
              "      <td>27</td>\n",
              "    </tr>\n",
              "    <tr>\n",
              "      <th>3</th>\n",
              "      <td>8.5</td>\n",
              "      <td>75</td>\n",
              "    </tr>\n",
              "    <tr>\n",
              "      <th>4</th>\n",
              "      <td>3.5</td>\n",
              "      <td>30</td>\n",
              "    </tr>\n",
              "  </tbody>\n",
              "</table>\n",
              "</div>"
            ],
            "text/plain": [
              "   Hours  Scores\n",
              "0    2.5      21\n",
              "1    5.1      47\n",
              "2    3.2      27\n",
              "3    8.5      75\n",
              "4    3.5      30"
            ]
          },
          "metadata": {
            "tags": []
          },
          "execution_count": 2
        }
      ]
    },
    {
      "cell_type": "code",
      "metadata": {
        "colab": {
          "base_uri": "https://localhost:8080/"
        },
        "id": "10GfASQPsrSo",
        "outputId": "01b56130-e5cf-41e3-d1bd-129f3088851e"
      },
      "source": [
        "#Shape of the dataframe\n",
        "df.shape"
      ],
      "execution_count": 3,
      "outputs": [
        {
          "output_type": "execute_result",
          "data": {
            "text/plain": [
              "(25, 2)"
            ]
          },
          "metadata": {
            "tags": []
          },
          "execution_count": 3
        }
      ]
    },
    {
      "cell_type": "markdown",
      "metadata": {
        "id": "6nzR8f3z-9zZ"
      },
      "source": [
        "## **Data Visualization**"
      ]
    },
    {
      "cell_type": "markdown",
      "metadata": {
        "id": "X7Zt5l5LsAtn"
      },
      "source": [
        "**Plotting the distribution of Scores**"
      ]
    },
    {
      "cell_type": "code",
      "metadata": {
        "colab": {
          "base_uri": "https://localhost:8080/",
          "height": 531
        },
        "id": "_yHZBbcIxtUb",
        "outputId": "e00db15a-665a-4bda-e1fa-4d6983709ae5"
      },
      "source": [
        "df.plot(x='Hours', y='Scores', style='o', figsize=(16,8))   # plt.scatter(df['Hours'], df['Scores']) \n",
        "plt.title('Relation between Study Hours and Scores', fontsize=24)\n",
        "plt.xlabel('Study Hours', fontsize=20)\n",
        "plt.ylabel('Percentage Scores', fontsize=20)\n",
        "plt.grid(True)\n",
        "plt.show()"
      ],
      "execution_count": 4,
      "outputs": [
        {
          "output_type": "display_data",
          "data": {
            "image/png": "[encoded data removed]",
            "text/plain": [
              "<Figure size 1152x576 with 1 Axes>"
            ]
          },
          "metadata": {
            "tags": [],
            "needs_background": "light"
          }
        }
      ]
    },
    {
      "cell_type": "markdown",
      "metadata": {
        "id": "OnBCZxtRskj_"
      },
      "source": [
        "\n",
        "\n",
        "---\n",
        "\n",
        "\n",
        "**Observation:** We can clearly notice that Number of Hours studied is linearly related to the Scores of the student.<br>\n",
        "So we can safely assume a positive linear relation between the number of hours studied and percentage of score.\n",
        "\n",
        "\n",
        "---\n",
        "\n"
      ]
    },
    {
      "cell_type": "markdown",
      "metadata": {
        "id": "FfRiHeZZGFdZ"
      },
      "source": [
        "## **Data Preprocessing**"
      ]
    },
    {
      "cell_type": "markdown",
      "metadata": {
        "id": "ikgpkAtqtU1U"
      },
      "source": [
        "**Now, we'll divide the data into \"attributes\" (input) and \"labels\" (output).**"
      ]
    },
    {
      "cell_type": "code",
      "metadata": {
        "id": "Sa2fDJE13wfa"
      },
      "source": [
        "X = df.iloc[:, :-1]\n",
        "y = df.iloc[:, 1]"
      ],
      "execution_count": 5,
      "outputs": []
    },
    {
      "cell_type": "markdown",
      "metadata": {
        "id": "OZroiUbuGaFG"
      },
      "source": [
        "## **Splitting the data for Training and Testing**"
      ]
    },
    {
      "cell_type": "markdown",
      "metadata": {
        "id": "6FILqYdotx62"
      },
      "source": [
        "**Now that we have our attributes and labels, the next step is to split this data into training and test sets.**"
      ]
    },
    {
      "cell_type": "code",
      "metadata": {
        "colab": {
          "base_uri": "https://localhost:8080/"
        },
        "id": "VPP5_fHrZr6x",
        "outputId": "04802b49-eb0b-4930-8537-ee8efa31337b"
      },
      "source": [
        "X_train, X_test, y_train, y_test = train_test_split(X, y, test_size=0.3, random_state=0)\n",
        "X_train.shape, y_train.shape, X_test.shape, y_test.shape"
      ],
      "execution_count": 6,
      "outputs": [
        {
          "output_type": "execute_result",
          "data": {
            "text/plain": [
              "((17, 1), (17,), (8, 1), (8,))"
            ]
          },
          "metadata": {
            "tags": []
          },
          "execution_count": 6
        }
      ]
    },
    {
      "cell_type": "markdown",
      "metadata": {
        "id": "jvVMto3NHgKb"
      },
      "source": [
        "## **Training the Linear Regression Model**"
      ]
    },
    {
      "cell_type": "markdown",
      "metadata": {
        "id": "-L4TY_gpukfV"
      },
      "source": [
        "**As we have our training and test sets, now it is time to train our algorithm**"
      ]
    },
    {
      "cell_type": "code",
      "metadata": {
        "colab": {
          "base_uri": "https://localhost:8080/"
        },
        "id": "Nt5y5MAHbuGV",
        "outputId": "63d85a83-b4a2-4122-fb17-f2f591f4a991"
      },
      "source": [
        "regression = LinearRegression()\n",
        "regression.fit(X_train, y_train)\n",
        "print('Training Complete')"
      ],
      "execution_count": 7,
      "outputs": [
        {
          "output_type": "stream",
          "text": [
            "Training Complete\n"
          ],
          "name": "stdout"
        }
      ]
    },
    {
      "cell_type": "markdown",
      "metadata": {
        "id": "xNjf3UZtIRbr"
      },
      "source": [
        "## **Plotting the Line Of Regression**"
      ]
    },
    {
      "cell_type": "markdown",
      "metadata": {
        "id": "bwdQVih0w6yH"
      },
      "source": [
        "**Plotting the regression line for our Training Data**"
      ]
    },
    {
      "cell_type": "code",
      "metadata": {
        "colab": {
          "base_uri": "https://localhost:8080/",
          "height": 531
        },
        "id": "MNG-S64ziNve",
        "outputId": "68fc62f8-1008-4db5-a2ec-92d8bed65153"
      },
      "source": [
        "line = regression.coef_ * X_train + regression.intercept_   # since y = m*x + c\n",
        "plt.figure(figsize=(16,8))\n",
        "plt.scatter(X_train, y_train)\n",
        "plt.plot(X_train, line)\n",
        "plt.title('Regression Line', fontsize=24)\n",
        "plt.xlabel('Study Hours', fontsize=20)\n",
        "plt.ylabel('Percentage Scores', fontsize=20)\n",
        "plt.grid(True)\n",
        "plt.show()"
      ],
      "execution_count": 8,
      "outputs": [
        {
          "output_type": "display_data",
          "data": {
            "image/png": "[encoded data removed]",
            "text/plain": [
              "<Figure size 1152x576 with 1 Axes>"
            ]
          },
          "metadata": {
            "tags": [],
            "needs_background": "light"
          }
        }
      ]
    },
    {
      "cell_type": "markdown",
      "metadata": {
        "id": "53Iw-uO9InrO"
      },
      "source": [
        "## **Making Predictions**"
      ]
    },
    {
      "cell_type": "markdown",
      "metadata": {
        "id": "LqLTxiMVyb7s"
      },
      "source": [
        "**Now we'll test the model by making some predictions, for which we'll use our Testing Data**"
      ]
    },
    {
      "cell_type": "code",
      "metadata": {
        "colab": {
          "base_uri": "https://localhost:8080/"
        },
        "id": "w2Kt1ryEA0jO",
        "outputId": "0164538f-3502-4a29-b18e-8ce5bddbf4fa"
      },
      "source": [
        "y_test_predict = regression.predict(X_test)\n",
        "print(y_test_predict)"
      ],
      "execution_count": 9,
      "outputs": [
        {
          "output_type": "stream",
          "text": [
            "[17.05366541 33.69422878 74.80620886 26.8422321  60.12335883 39.56736879\n",
            " 20.96909209 78.72163554]\n"
          ],
          "name": "stdout"
        }
      ]
    },
    {
      "cell_type": "markdown",
      "metadata": {
        "id": "qWEHpI3bJri2"
      },
      "source": [
        "## **Comparing the Actual Score with Predicted Score**"
      ]
    },
    {
      "cell_type": "code",
      "metadata": {
        "colab": {
          "base_uri": "https://localhost:8080/",
          "height": 300
        },
        "id": "Pn8I5Ri6BmWv",
        "outputId": "ab48b74e-0c62-453c-eee6-d4aaba087d14"
      },
      "source": [
        "test_compare = pd.DataFrame({'Hours Studied': X_test.values.reshape(8,), 'Actual Score': y_test, 'Predicted Score': y_test_predict}).reset_index(drop=True)\n",
        "test_compare"
      ],
      "execution_count": 10,
      "outputs": [
        {
          "output_type": "execute_result",
          "data": {
            "text/html": [
              "<div>\n",
              "<style scoped>\n",
              "    .dataframe tbody tr th:only-of-type {\n",
              "        vertical-align: middle;\n",
              "    }\n",
              "\n",
              "    .dataframe tbody tr th {\n",
              "        vertical-align: top;\n",
              "    }\n",
              "\n",
              "    .dataframe thead th {\n",
              "        text-align: right;\n",
              "    }\n",
              "</style>\n",
              "<table border=\"1\" class=\"dataframe\">\n",
              "  <thead>\n",
              "    <tr style=\"text-align: right;\">\n",
              "      <th></th>\n",
              "      <th>Hours Studied</th>\n",
              "      <th>Actual Score</th>\n",
              "      <th>Predicted Score</th>\n",
              "    </tr>\n",
              "  </thead>\n",
              "  <tbody>\n",
              "    <tr>\n",
              "      <th>0</th>\n",
              "      <td>1.5</td>\n",
              "      <td>20</td>\n",
              "      <td>17.053665</td>\n",
              "    </tr>\n",
              "    <tr>\n",
              "      <th>1</th>\n",
              "      <td>3.2</td>\n",
              "      <td>27</td>\n",
              "      <td>33.694229</td>\n",
              "    </tr>\n",
              "    <tr>\n",
              "      <th>2</th>\n",
              "      <td>7.4</td>\n",
              "      <td>69</td>\n",
              "      <td>74.806209</td>\n",
              "    </tr>\n",
              "    <tr>\n",
              "      <th>3</th>\n",
              "      <td>2.5</td>\n",
              "      <td>30</td>\n",
              "      <td>26.842232</td>\n",
              "    </tr>\n",
              "    <tr>\n",
              "      <th>4</th>\n",
              "      <td>5.9</td>\n",
              "      <td>62</td>\n",
              "      <td>60.123359</td>\n",
              "    </tr>\n",
              "    <tr>\n",
              "      <th>5</th>\n",
              "      <td>3.8</td>\n",
              "      <td>35</td>\n",
              "      <td>39.567369</td>\n",
              "    </tr>\n",
              "    <tr>\n",
              "      <th>6</th>\n",
              "      <td>1.9</td>\n",
              "      <td>24</td>\n",
              "      <td>20.969092</td>\n",
              "    </tr>\n",
              "    <tr>\n",
              "      <th>7</th>\n",
              "      <td>7.8</td>\n",
              "      <td>86</td>\n",
              "      <td>78.721636</td>\n",
              "    </tr>\n",
              "  </tbody>\n",
              "</table>\n",
              "</div>"
            ],
            "text/plain": [
              "   Hours Studied  Actual Score  Predicted Score\n",
              "0            1.5            20        17.053665\n",
              "1            3.2            27        33.694229\n",
              "2            7.4            69        74.806209\n",
              "3            2.5            30        26.842232\n",
              "4            5.9            62        60.123359\n",
              "5            3.8            35        39.567369\n",
              "6            1.9            24        20.969092\n",
              "7            7.8            86        78.721636"
            ]
          },
          "metadata": {
            "tags": []
          },
          "execution_count": 10
        }
      ]
    },
    {
      "cell_type": "markdown",
      "metadata": {
        "id": "iqWRqlP5zS3V"
      },
      "source": [
        "**Plotting the Bar graph to visualize the difference between the actual and predicted score**"
      ]
    },
    {
      "cell_type": "code",
      "metadata": {
        "colab": {
          "base_uri": "https://localhost:8080/",
          "height": 531
        },
        "id": "pZQtH-MPf8JM",
        "outputId": "2b0368f0-cefa-485b-cb70-67048222e652"
      },
      "source": [
        "xpos = np.arange(len(X_test))\n",
        "plt.figure(figsize=(16,8))\n",
        "plt.bar(xpos-0.2, y_test, width=0.4, label='Actual Score')\n",
        "plt.bar(xpos+0.2, y_test_predict, width=0.4, label='Predicted Score')\n",
        "plt.xticks(xpos, X_test.values.reshape(8,))\n",
        "plt.title('Actual Score vs Predicted Score', fontsize=24)\n",
        "plt.xlabel('Study Hours', fontsize=20)\n",
        "plt.ylabel('Percentage Scores', fontsize=20)\n",
        "plt.legend()\n",
        "plt.show()"
      ],
      "execution_count": 11,
      "outputs": [
        {
          "output_type": "display_data",
          "data": {
            "image/png": "[encoded data removed]",
            "text/plain": [
              "<Figure size 1152x576 with 1 Axes>"
            ]
          },
          "metadata": {
            "tags": [],
            "needs_background": "light"
          }
        }
      ]
    },
    {
      "cell_type": "markdown",
      "metadata": {
        "id": "vPXhXhUmLDCu"
      },
      "source": [
        "## **What will be predicted score if a student study for 9.25 hrs/day?**"
      ]
    },
    {
      "cell_type": "code",
      "metadata": {
        "colab": {
          "base_uri": "https://localhost:8080/"
        },
        "id": "cuCy-iFzT-l-",
        "outputId": "052e7947-d30e-4068-b6aa-4544040ed67d"
      },
      "source": [
        "print('Predicted Score if a student studies for 9.25 hours/day is ', regression.predict([[9.25]])[0])"
      ],
      "execution_count": 12,
      "outputs": [
        {
          "output_type": "stream",
          "text": [
            "Predicted Score if a student studies for 9.25 hours/day is  92.91505723477056\n"
          ],
          "name": "stdout"
        }
      ]
    },
    {
      "cell_type": "markdown",
      "metadata": {
        "id": "hY9u47hMKXFV"
      },
      "source": [
        "## **Evaluating the Model**"
      ]
    },
    {
      "cell_type": "markdown",
      "metadata": {
        "id": "7He6oNe5z7bm"
      },
      "source": [
        "*   **The final step is to evaluate the performance of the algorithm.**\n",
        "*   **This step is particularly important to compare how well our algorithms perform on a particular dataset (i.e how fit is our model).**\n",
        "*   **Here different errors have been calculated to compare the model performance and predict the accuracy.**"
      ]
    },
    {
      "cell_type": "code",
      "metadata": {
        "colab": {
          "base_uri": "https://localhost:8080/"
        },
        "id": "TvwtW0xYYz6N",
        "outputId": "50129d71-7d6f-4c39-a905-bd59aa7fe191"
      },
      "source": [
        "print('Mean Absolute Error : ', metrics.mean_absolute_error(y_test, y_test_predict))\n",
        "print('Mean Squared Error : ', metrics.mean_squared_error(y_test, y_test_predict))\n",
        "print('Root Mean Squared Error : ', np.sqrt(metrics.mean_squared_error(y_test, y_test_predict)), \"\\n\")\n",
        "print('Testing Score : ', regression.score(X_test, y_test))  # R-2 Score\n",
        "print('Training Score : ', regression.score(X_train, y_train))  # How the model generalized or fitted in the training data."
      ],
      "execution_count": 13,
      "outputs": [
        {
          "output_type": "stream",
          "text": [
            "Mean Absolute Error :  4.419727808027651\n",
            "Mean Squared Error :  22.965097212700428\n",
            "Root Mean Squared Error :  4.7921912746363144 \n",
            "\n",
            "Testing Score :  0.9568211104435257\n",
            "Training Score :  0.9484997422695115\n"
          ],
          "name": "stdout"
        }
      ]
    }
  ]
}